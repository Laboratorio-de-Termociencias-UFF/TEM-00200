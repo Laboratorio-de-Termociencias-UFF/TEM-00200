{
 "cells": [
  {
   "cell_type": "markdown",
   "metadata": {},
   "source": [
    "# C2 - Interpolação e Aproximação\n",
    "\n",
    "Esta aula sera destinada a programar os algoritmos referentes as aulas teoricas de Interpolação e Aproximação, com foco específico na Interpolação de Newton, Interpolação de Lagrange e na Aproximação de Mínimos Quadrados.\n",
    "\n",
    "## Interpolação\n",
    "\n",
    "O objetivo principal aqui é encontrar uma curva que passe exatamente pelos pontos desejados. Vamos explorar dois métodos para isso: a Interpolação de Newton e a Interpolação de Lagrange.\n",
    "\n",
    "### Interpolação de Newton\n",
    "\n",
    "A Interpolação de Newton é um método eficiente para calcular o polinômio interpolador, especialmente útil quando novos pontos de dados são adicionados, pois permite o cálculo incremental do polinômio sem recalcular os coeficientes anteriormente encontrados.\n",
    "\n",
    "O  polinômio interpolador de Newton é expresso como:\n",
    "\n",
    "$$P(x) = \\sum_{i=0}^n a_i \\prod_{j=0}^{i-1} (x-x_j)$$\n",
    "\n",
    "Podemos então tentar encontrar um pseudocódigo que retorne $P(x)$.\n",
    "\n",
    "```s\n",
    "Função InterpolaçãoNewton(pontos):\n",
    "    n = número de pontos\n",
    "    Calcule as diferenças divididas e armazene em coeficientes[0...n-1]\n",
    "    Função PolinomioNewton(x):\n",
    "        soma = coeficientes[0]\n",
    "        termo = 1\n",
    "        Para i de 1 até n-1:\n",
    "            termo *= (x - pontos[i-1].x)\n",
    "            soma += coeficientes[i] * termo\n",
    "        Retorne soma\n",
    "    Retorne PolinomioNewton\n",
    "```\n",
    "### Interpolação de Lagrange\n",
    "\n",
    "A Interpolação de Lagrange é um método para encontrar o polinômio que passa por um dado conjunto de pontos. O polinômio interpolador $P(x)$ de grau menor ou igual a $n$ é dado por:\n",
    "$$P(x)=\\sum_{i=0}^{n} y_i L_{n,i}(x), \\text{ onde } L_{n,i}(x)=\\Pi_{k=0,k \\ne i}^n \\frac{x-x_k}{x_i - x_k}$$\n",
    "\n",
    "Com esta formula, podemos tentar encontrar um pseudocodigo que retorne o que esperamos:\n",
    "\n",
    "```s\n",
    "Função InterpolaçãoLagrange(pontos, x):\n",
    "    soma = 0\n",
    "    Para cada j até n:\n",
    "        termo = pontos[j].y\n",
    "        Para cada m até n:\n",
    "            Se m != j:\n",
    "                termo *= (x - pontos[m].x) / (pontos[j].x - pontos[m].x)\n",
    "        soma += termo\n",
    "    Retorne soma\n",
    "```\n",
    "\n",
    "## Aproximação\n",
    "\n",
    "A aproximação se concentra em encontrar a curva que melhor se ajusta aos pontos dados, no sentido de minimizar a soma dos quadrados das diferenças verticais entre os pontos de dados e os valores previstos. Utilizaremos o método de Mínimos Quadrados para isso.\n",
    "Aproximação de Mínimos Quadrados\n",
    "\n",
    "O método de Mínimos Quadrados é usado para encontrar a melhor aproximação linear (ou polinomial, dependendo da aplicação) que se ajusta aos pontos dados. Para um ajuste linear, buscamos $y=ax+b$ que minimiza a soma dos quadrados dos resíduos.\n",
    "\n",
    "Da mesma maneira abordada anteriormente, o pseudocódigo para Mínimos Quadrados pode ser descrito.\n",
    "\n",
    "```s\n",
    "Função MinimosQuadrados(pontos):\n",
    "    Calcule as somas necessárias: Sx, Sy, Sxx, Sxy\n",
    "    n = número de pontos\n",
    "    a = (n*Sxy - Sx*Sy) / (n*Sxx - Sx^2)\n",
    "    b = (Sy - a*Sx) / n\n",
    "    Retorne a, b\n",
    "```"
   ]
  },
  {
   "cell_type": "code",
   "execution_count": 2,
   "metadata": {},
   "outputs": [
    {
     "name": "stdout",
     "output_type": "stream",
     "text": [
      "/home/vfegger/TEM-00200/C2\n"
     ]
    },
    {
     "name": "stderr",
     "output_type": "stream",
     "text": [
      "\u001b[32m\u001b[1m  Activating\u001b[22m\u001b[39m project at `~/TEM-00200/C2`\n",
      "\u001b[32m\u001b[1m   Resolving\u001b[22m\u001b[39m package versions...\n",
      "\u001b[32m\u001b[1m  No Changes\u001b[22m\u001b[39m to `~/TEM-00200/C2/Project.toml`\n",
      "\u001b[32m\u001b[1m  No Changes\u001b[22m\u001b[39m to `~/TEM-00200/C2/Manifest.toml`\n"
     ]
    }
   ],
   "source": [
    "cd(@__DIR__);\n",
    "println(pwd());\n",
    "\n",
    "using Pkg;\n",
    "Pkg.activate(pwd());\n",
    "Pkg.add(\"Plots\");\n",
    "\n",
    "using Plots;\n",
    "const build_dir = \"build\";\n",
    "const source_dir = \"src\";"
   ]
  },
  {
   "cell_type": "code",
   "execution_count": 3,
   "metadata": {},
   "outputs": [
    {
     "name": "stdout",
     "output_type": "stream",
     "text": [
      "0.000000,0.000000\n",
      "0.157895,0.024931\n",
      "0.315789,0.099723\n",
      "0.473684,0.224377\n",
      "0.631579,0.398892\n",
      "0.789474,0.623269\n",
      "0.947368,0.897507\n",
      "1.105263,1.221607\n",
      "1.263158,1.595568\n",
      "1.421053,2.019391\n",
      "1.578947,2.493075\n",
      "1.736842,3.016620\n",
      "1.894737,3.590028\n",
      "2.052632,4.213296\n",
      "2.210526,4.886427\n",
      "2.368421,5.609418\n",
      "2.526316,6.382271\n",
      "2.684211,7.204986\n",
      "2.842105,8.077562\n",
      "3.000000,9.000000\n"
     ]
    },
    {
     "data": {
      "text/plain": [
       "Process(`\u001b[4m./build/intnewton\u001b[24m`, ProcessExited(0))"
      ]
     },
     "metadata": {},
     "output_type": "display_data"
    }
   ],
   "source": [
    "file = \"intnewton.c\"\n",
    "output = \"intnewton\"\n",
    "compile = `gcc $source_dir/$file -Wall -o $build_dir/$output`\n",
    "execute = `./$build_dir/$output`\n",
    "run(compile)\n",
    "run(execute)"
   ]
  },
  {
   "cell_type": "code",
   "execution_count": 4,
   "metadata": {},
   "outputs": [
    {
     "name": "stdout",
     "output_type": "stream",
     "text": [
      "0.000000,0.000000\n",
      "0.157895,0.024931\n",
      "0.315789,0.099723\n",
      "0.473684,0.224377\n",
      "0.631579,0.398892\n",
      "0.789474,0.623269\n",
      "0.947368,0.897507\n",
      "1.105263,1.221607\n",
      "1.263158,1.595568\n",
      "1.421053,2.019391\n",
      "1.578947,2.493075\n",
      "1.736842,3.016620\n",
      "1.894737,3.590028\n",
      "2.052632,4.213296\n",
      "2.210526,4.886427\n",
      "2.368421,5.609418\n",
      "2.526316,6.382271\n",
      "2.684211,7.204986\n",
      "2.842105,8.077562\n",
      "3.000000,9.000000\n"
     ]
    },
    {
     "data": {
      "text/plain": [
       "Process(`\u001b[4m./build/intlagrange\u001b[24m`, ProcessExited(0))"
      ]
     },
     "metadata": {},
     "output_type": "display_data"
    }
   ],
   "source": [
    "file = \"intlagrange.c\"\n",
    "output = \"intlagrange\"\n",
    "compile = `gcc $source_dir/$file -Wall -o $build_dir/$output`\n",
    "execute = `./$build_dir/$output`\n",
    "run(compile)\n",
    "run(execute)"
   ]
  },
  {
   "cell_type": "code",
   "execution_count": 17,
   "metadata": {},
   "outputs": [
    {
     "name": "stdout",
     "output_type": "stream",
     "text": [
      "Alpha = 3.000000, Beta = -1.000000\n",
      "0.000000,-1.000000\n",
      "0.157895,-0.526316\n",
      "0.315789,-0.052632\n",
      "0.473684,0.421053\n",
      "0.631579,0.894737\n",
      "0.789474,1.368421\n",
      "0.947368,1.842105\n",
      "1.105263,2.315789\n",
      "1.263158,2.789474\n",
      "1.421053,3.263158\n",
      "1.578947,3.736842\n",
      "1.736842,4.210526\n",
      "1.894737,4.684211\n",
      "2.052632,5.157895\n",
      "2.210526,5.631579\n",
      "2.368421,6.105263\n",
      "2.526316,6.578947\n",
      "2.684211,7.052632\n",
      "2.842105,7.526316\n",
      "3.000000,8.000000\n"
     ]
    },
    {
     "data": {
      "text/plain": [
       "Process(`\u001b[4m./build/leastsquares\u001b[24m`, ProcessExited(0))"
      ]
     },
     "metadata": {},
     "output_type": "display_data"
    }
   ],
   "source": [
    "file = \"leastsquares.c\"\n",
    "output = \"leastsquares\"\n",
    "compile = `gcc $source_dir/$file -Wall -o $build_dir/$output`\n",
    "execute = `./$build_dir/$output`\n",
    "run(compile)\n",
    "run(execute)"
   ]
  },
  {
   "cell_type": "code",
   "execution_count": 29,
   "metadata": {},
   "outputs": [
    {
     "name": "stdout",
     "output_type": "stream",
     "text": [
      "Coefficients: -1.000000, 3.000000, \n",
      "0.000000,-1.000000\n",
      "0.157895,-0.526316\n",
      "0.315789,-0.052632\n",
      "0.473684,0.421053\n",
      "0.631579,0.894737\n",
      "0.789474,1.368421\n",
      "0.947368,1.842105\n",
      "1.105263,2.315789\n",
      "1.263158,2.789474\n",
      "1.421053,3.263158\n",
      "1.578947,3.736842\n",
      "1.736842,4.210526\n",
      "1.894737,4.684211\n",
      "2.052632,5.157895\n",
      "2.210526,5.631579\n",
      "2.368421,6.105263\n",
      "2.526316,6.578947\n",
      "2.684211,7.052632\n",
      "2.842105,7.526316\n",
      "3.000000,8.000000\n"
     ]
    },
    {
     "data": {
      "text/plain": [
       "Process(`\u001b[4m./build/furtherleastsquares\u001b[24m`, ProcessExited(0))"
      ]
     },
     "metadata": {},
     "output_type": "display_data"
    }
   ],
   "source": [
    "file = \"furtherleastsquares.c\"\n",
    "output = \"furtherleastsquares\"\n",
    "compile = `gcc $source_dir/$file -Wall -o $build_dir/$output -lm`\n",
    "execute = `./$build_dir/$output`\n",
    "run(compile)\n",
    "run(execute)"
   ]
  },
  {
   "cell_type": "code",
   "execution_count": null,
   "metadata": {},
   "outputs": [],
   "source": []
  }
 ],
 "metadata": {
  "kernelspec": {
   "display_name": "Julia 1.9.4",
   "language": "julia",
   "name": "julia-1.9"
  },
  "language_info": {
   "file_extension": ".jl",
   "mimetype": "application/julia",
   "name": "julia",
   "version": "1.9.4"
  }
 },
 "nbformat": 4,
 "nbformat_minor": 2
}
