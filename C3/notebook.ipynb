{
 "cells": [
  {
   "cell_type": "markdown",
   "metadata": {},
   "source": [
    "# C3 - Integração Numérica\n",
    "\n",
    "Esta aula é dedicada para o entendimento de integração numérica através das regras do trapézio e 1/3 de Simpsons.\n",
    "\n",
    "## Regra do Trapézio\n",
    "\n",
    "A Regra do Trapézio é um método de aproximação para calcular integrais definidas. A ideia é dividir a área sob a curva em trapézios e somar suas áreas para obter a integral aproximada.\n",
    "\n",
    "### Fórmula da Regra do Trapézio\n",
    "\n",
    "A fórmula para a integral aproximada de $a$ até $b$ usando $n$ subintervalos é dada por:\n",
    "\n",
    "$$\n",
    "\\int_a^b f(x) \\, dx \\approx \\frac{b - a}{2n} \\left[ f(a) + 2 \\sum_{i = 1}^{n - 1} f(x_i) + f(b) \\right]\n",
    "$$\n",
    "\n",
    "onde:\n",
    "\n",
    "- $a$ e $b$ são os limites inferior e superior da integral,\n",
    "- $n$ é o número de subintervalos,\n",
    "- $x_i$ representa os pontos intermediários entre $a$ e $b$.\n",
    "\n",
    "## Regra de 1/3 de Simpson\n",
    "\n",
    "A Regra de 1/3 de Simpson é uma técnica mais precisa para calcular integrais definidas. Ela usa polinômios de segundo grau para aproximar a função.\n",
    "\n",
    "### Fórmula da Regra de 1/3 de Simpson\n",
    "\n",
    "A fórmula para a integral aproximada de $a$ até $b$ usando $n$ subintervalos (onde $n$ deve ser par) é dada por:\n",
    "\n",
    "$$\n",
    "\\int_a^b f(x) \\, dx \\approx \\frac{b - a}{3n} \\left[ f(a) + 4 \\sum_{i = 1,3,\\ldots,n-1} f(x_i) + 2 \\sum_{i = 2,4,\\ldots,n-2} f(x_i) + f(b) \\right]\n",
    "$$\n",
    "\n",
    "onde:\n",
    "\n",
    "- \\( a \\) e \\( b \\) são os limites inferior e superior da integral,\n",
    "- \\( n \\) é o número de subintervalos (deve ser par),\n",
    "- \\( x_i \\) representa os pontos intermediários entre \\( a \\) e \\( b \\).\n"
   ]
  },
  {
   "cell_type": "code",
   "execution_count": 1,
   "metadata": {},
   "outputs": [
    {
     "name": "stdout",
     "output_type": "stream",
     "text": [
      "/home/vfegger/TEM-00200/C3\n"
     ]
    },
    {
     "name": "stderr",
     "output_type": "stream",
     "text": [
      "\u001b[32m\u001b[1m  Activating\u001b[22m\u001b[39m project at `~/TEM-00200/C3`\n",
      "\u001b[32m\u001b[1m   Resolving\u001b[22m\u001b[39m package versions...\n",
      "\u001b[32m\u001b[1m  No Changes\u001b[22m\u001b[39m to `~/TEM-00200/C3/Project.toml`\n",
      "\u001b[32m\u001b[1m  No Changes\u001b[22m\u001b[39m to `~/TEM-00200/C3/Manifest.toml`\n"
     ]
    }
   ],
   "source": [
    "cd(@__DIR__);\n",
    "println(pwd());\n",
    "\n",
    "using Pkg;\n",
    "Pkg.activate(pwd());\n",
    "Pkg.add(\"Plots\");\n",
    "\n",
    "using Plots;\n",
    "const build_dir = \"build\";\n",
    "const source_dir = \"src\";"
   ]
  },
  {
   "cell_type": "code",
   "execution_count": 2,
   "metadata": {},
   "outputs": [
    {
     "name": "stdout",
     "output_type": "stream",
     "text": [
      "I_1 = 1.570796\n",
      "I_2 = 1.896119\n",
      "I_3 = 1.974232\n",
      "I_4 = 1.993570\n",
      "I_5 = 1.998393\n",
      "I_6 = 1.999598\n",
      "I_7 = 1.999900\n",
      "I_8 = 1.999975\n",
      "I_9 = 1.999994\n",
      "I_10 = 1.999998\n",
      "I_11 = 2.000000\n",
      "I_12 = 2.000000\n",
      "Result = 1.9993148493\n",
      "Result = 1.9999999020\n"
     ]
    },
    {
     "data": {
      "text/plain": [
       "Process(`\u001b[4m./build/inttrapezoidal\u001b[24m`, ProcessExited(0))"
      ]
     },
     "metadata": {},
     "output_type": "display_data"
    }
   ],
   "source": [
    "file = \"trapezoidal.c\"\n",
    "output = \"inttrapezoidal\"\n",
    "compile = `gcc $source_dir/$file -Wall -o $build_dir/$output -lm`\n",
    "execute = `./$build_dir/$output`\n",
    "run(compile)\n",
    "run(execute)"
   ]
  }
 ],
 "metadata": {
  "kernelspec": {
   "display_name": "Julia 1.9.4",
   "language": "julia",
   "name": "julia-1.9"
  },
  "language_info": {
   "file_extension": ".jl",
   "mimetype": "application/julia",
   "name": "julia",
   "version": "1.9.4"
  }
 },
 "nbformat": 4,
 "nbformat_minor": 2
}
